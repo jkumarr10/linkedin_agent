{
 "cells": [
  {
   "cell_type": "code",
   "execution_count": 12,
   "metadata": {},
   "outputs": [],
   "source": [
    "from agents import Agent, Runner, function_tool, handoff, ItemHelpers, MessageOutputItem, trace\n",
    "from dotenv import load_dotenv\n",
    "import requests\n",
    "import os\n",
    "\n",
    "import json\n",
    "\n",
    "from typing_extensions import TypedDict, Any\n"
   ]
  },
  {
   "cell_type": "code",
   "execution_count": 2,
   "metadata": {},
   "outputs": [
    {
     "data": {
      "text/plain": [
       "True"
      ]
     },
     "execution_count": 2,
     "metadata": {},
     "output_type": "execute_result"
    }
   ],
   "source": [
    "load_dotenv()"
   ]
  },
  {
   "cell_type": "code",
   "execution_count": 3,
   "metadata": {},
   "outputs": [],
   "source": [
    "access_token = os.getenv(\"LINKEDIN_ACCESS_TOKEN\")\n",
    "linkedin_author = os.getenv(\"LINKEDIN_AUTHOR\")"
   ]
  },
  {
   "cell_type": "code",
   "execution_count": 4,
   "metadata": {},
   "outputs": [],
   "source": [
    "@function_tool\n",
    "def post_to_linkedin(generated_content: str):\n",
    "        \"\"\"\n",
    "        This function posts content to LinkedIn.\n",
    "\n",
    "        Args:\n",
    "            text (str): The content to post.\n",
    "            visibility (str, optional): The visibility of the post. Defaults to \"CONNECTIONS\".\n",
    "        \"\"\"\n",
    "        \n",
    "        # Linkedin API to share content\n",
    "        share_content_url = \"https://api.linkedin.com/v2/ugcPosts\"\n",
    "        \n",
    "        # Headers with authorization\n",
    "        headers = {\n",
    "            \"Authorization\": f\"Bearer {access_token}\",\n",
    "            \"Content-Type\": \"application/json\",\n",
    "            \"X-Restli-Protocol-Version\": \"2.0.0\"\n",
    "        }\n",
    "        \n",
    "        post_data = {\n",
    "        \"author\": f\"urn:li:person:{linkedin_author}\",\n",
    "        \"lifecycleState\": \"PUBLISHED\",\n",
    "        \"specificContent\": {\n",
    "            \"com.linkedin.ugc.ShareContent\": {\n",
    "                \"shareCommentary\": {\n",
    "                    \"text\": generated_content\n",
    "                },\n",
    "                \"shareMediaCategory\": \"NONE\"\n",
    "            }\n",
    "        },\n",
    "        \"visibility\": {\n",
    "            \"com.linkedin.ugc.MemberNetworkVisibility\": \"CONNECTIONS\"\n",
    "            }\n",
    "        }\n",
    "        \n",
    "        print(f\"Content to post: {generated_content[:50]}...\")\n",
    "        \n",
    "        response = requests.post(url=share_content_url, headers=headers, json=post_data)\n",
    "\n",
    "        print(f\"LinkedIn API response status code: {response.status_code}\")\n",
    "        print(f\"LinkedIn API response: {response.text}\")\n",
    "        \n",
    "        if response.status_code in [200,201]:\n",
    "            # Parse and return json response\n",
    "            return response.json()\n",
    "        else:\n",
    "            return {\n",
    "                \"error\": response.status_code,\n",
    "                \"message\": response.text\n",
    "            }"
   ]
  },
  {
   "cell_type": "code",
   "execution_count": 5,
   "metadata": {},
   "outputs": [
    {
     "name": "stdout",
     "output_type": "stream",
     "text": [
      "Agent(name='content_generator', instructions='You are an AI Engineering expert who specializes in creating engaging, professional content for LinkedIn. \\nYour expertise spans machine learning, deep learning, MLOps, LLMs, and AI application development.\\n\\nHelp the user craft compelling LinkedIn posts that:\\n- Showcase technical expertise without being overly complex\\n- Include relevant industry insights and trends\\n- Maintain a professional yet conversational tone\\n- Incorporate appropriate hashtags\\n- Are formatted appropriately for LinkedIn\\'s platform (concise paragraphs, emojis where appropriate)\\n- Can include calls-to-action when relevant\\n\\nWhen asked to generate content, provide thoughtful posts that would resonate with a professional audience in the AI/ML space. \\nIf the user provides specific topics or themes, tailor your response accordingly.\\n\\nAvoid creating content that is overly promotional, contains misinformation about AI technologies, or makes unrealistic claims about AI capabilities.\\nIt is most important to never give out wrong information.\\n\\nIMPORTANT: After generating content, you should explicitly state that the content is ready to be posted to LinkedIn and ask the post_to_linkedin_agent to post it. For example: \"Here\\'s the content I\\'ve created. @post_to_linkedin_agent, please post this to LinkedIn.\"\\n', handoff_description=None, handoffs=[], model='gpt-4o-mini', model_settings=ModelSettings(temperature=None, top_p=None, frequency_penalty=None, presence_penalty=None, tool_choice=None, parallel_tool_calls=False, truncation=None), tools=[], input_guardrails=[], output_guardrails=[], output_type=None, hooks=None)\n"
     ]
    }
   ],
   "source": [
    "# Define Content Generation Agent\n",
    "\n",
    "with open(\"prompts/content_generation_prompt.txt\") as f:\n",
    "    content_generation_prompt = f.read()\n",
    "    \n",
    "content_generation_agent = Agent(\n",
    "    name=\"content_generator\",\n",
    "    instructions=content_generation_prompt,\n",
    "    model=\"gpt-4o-mini\",\n",
    ")\n",
    "\n",
    "print(content_generation_agent)"
   ]
  },
  {
   "cell_type": "code",
   "execution_count": 6,
   "metadata": {},
   "outputs": [],
   "source": [
    "# Define Linkedin Posting Agent \n",
    "\n",
    "posting_prompt = \"\"\" \n",
    "You are a LinkedIn posting assistant.\n",
    "You will take content from the content generator and post it to LinkedIn.\n",
    "\"\"\"\n",
    "\n",
    "posting_agent = Agent(\n",
    "    name=\"linkedin_poster\",\n",
    "    instructions= posting_prompt,\n",
    "    model = \"gpt-4o-mini\",\n",
    "    tools=[post_to_linkedin]\n",
    ")\n",
    "\n"
   ]
  },
  {
   "cell_type": "code",
   "execution_count": 18,
   "metadata": {},
   "outputs": [],
   "source": [
    "# Define Orchestration Agent\n",
    "\n",
    "orchestration_prompt = \"\"\"\n",
    "Depending on the user's request, you will do the following:\n",
    "1. Generate content for a LinkedIn post\n",
    "2. Post the content to LinkedIn\n",
    "\n",
    "You will use the content generator and the LinkedIn poster agents to accomplish this.\n",
    "\n",
    "\"\"\"\n",
    "\n",
    "orchestration_agent = Agent(\n",
    "    name=\"orchestration_agent\",\n",
    "    instructions=orchestration_prompt,\n",
    "    model=\"gpt-4o-mini\",\n",
    "    tools=[\n",
    "        content_generation_agent.as_tool(\n",
    "            tool_name=\"generate_content\",\n",
    "            tool_description=\"Generate a LinkedIn post\",\n",
    "        ),\n",
    "        posting_agent.as_tool(\n",
    "            tool_name=\"post_to_linkedin\",\n",
    "            tool_description=\"Post a LinkedIn post\",\n",
    "        )\n",
    "    ]\n",
    ")\n",
    "\n",
    "\n"
   ]
  },
  {
   "cell_type": "code",
   "execution_count": 17,
   "metadata": {},
   "outputs": [],
   "source": [
    "async def main():\n",
    "    \n",
    "    msg = \"Generate a LinkedIn post about the importance of networking in the digital age in 1 sentence only.\"\n",
    "    \n",
    "    result =await Runner.run(\n",
    "        orchestration_agent,\n",
    "        msg\n",
    "    )\n",
    "    \n",
    "    print(result.final_output)\n",
    "    "
   ]
  },
  {
   "cell_type": "code",
   "execution_count": 19,
   "metadata": {},
   "outputs": [
    {
     "name": "stdout",
     "output_type": "stream",
     "text": [
      "Content to post: The importance of networking in the digital age ca...\n",
      "LinkedIn API response status code: 201\n",
      "LinkedIn API response: {\"id\":\"urn:li:share:7305652075000958976\"}\n",
      "Your LinkedIn post about the importance of networking in the digital age has been successfully shared! If you need anything else, just let me know!\n"
     ]
    }
   ],
   "source": [
    "await main()"
   ]
  },
  {
   "cell_type": "code",
   "execution_count": null,
   "metadata": {},
   "outputs": [],
   "source": []
  }
 ],
 "metadata": {
  "kernelspec": {
   "display_name": "autogen-linkedin-agent-7uZaBnmp-py3.11",
   "language": "python",
   "name": "python3"
  },
  "language_info": {
   "codemirror_mode": {
    "name": "ipython",
    "version": 3
   },
   "file_extension": ".py",
   "mimetype": "text/x-python",
   "name": "python",
   "nbconvert_exporter": "python",
   "pygments_lexer": "ipython3",
   "version": "3.11.7"
  }
 },
 "nbformat": 4,
 "nbformat_minor": 2
}
